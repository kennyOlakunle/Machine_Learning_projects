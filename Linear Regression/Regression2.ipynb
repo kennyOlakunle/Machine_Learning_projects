{
 "cells": [
  {
   "cell_type": "code",
   "execution_count": 1,
   "metadata": {},
   "outputs": [
    {
     "name": "stdout",
     "output_type": "stream",
     "text": [
      "32\n"
     ]
    }
   ],
   "source": [
    "myAge = 32\n",
    "print(myAge)"
   ]
  },
  {
   "cell_type": "code",
   "execution_count": 2,
   "metadata": {},
   "outputs": [
    {
     "name": "stdout",
     "output_type": "stream",
     "text": [
      "33\n"
     ]
    }
   ],
   "source": [
    "myAge = 33\n",
    "print(myAge)"
   ]
  },
  {
   "cell_type": "code",
   "execution_count": 3,
   "metadata": {},
   "outputs": [
    {
     "name": "stdout",
     "output_type": "stream",
     "text": [
      "11.0\n"
     ]
    }
   ],
   "source": [
    "print(myAge/3)"
   ]
  },
  {
   "cell_type": "code",
   "execution_count": 4,
   "metadata": {},
   "outputs": [
    {
     "name": "stdout",
     "output_type": "stream",
     "text": [
      "34\n"
     ]
    }
   ],
   "source": [
    "myAge = myAge + 1\n",
    "print(myAge)"
   ]
  },
  {
   "cell_type": "code",
   "execution_count": 5,
   "metadata": {},
   "outputs": [
    {
     "name": "stdout",
     "output_type": "stream",
     "text": [
      "4.52125\n"
     ]
    }
   ],
   "source": [
    "# Challenge \n",
    "# 1) Create a variable called \"restaurantBill\" and set its value to 36.17\n",
    "# 2) Create a variable called \"serviceCharge\" and set its value to 0.125\n",
    "# 3) Print out the amount of tip\n",
    "restaurantBill = 36.17\n",
    "serviceCharge = 0.125\n",
    "print(restaurantBill*serviceCharge)"
   ]
  },
  {
   "cell_type": "code",
   "execution_count": 6,
   "metadata": {},
   "outputs": [
    {
     "data": {
      "text/plain": [
       "int"
      ]
     },
     "execution_count": 6,
     "metadata": {},
     "output_type": "execute_result"
    }
   ],
   "source": [
    "type(33)"
   ]
  },
  {
   "cell_type": "code",
   "execution_count": 7,
   "metadata": {},
   "outputs": [
    {
     "data": {
      "text/plain": [
       "float"
      ]
     },
     "execution_count": 7,
     "metadata": {},
     "output_type": "execute_result"
    }
   ],
   "source": [
    "type(33.6)"
   ]
  },
  {
   "cell_type": "code",
   "execution_count": 8,
   "metadata": {},
   "outputs": [
    {
     "data": {
      "text/plain": [
       "str"
      ]
     },
     "execution_count": 8,
     "metadata": {},
     "output_type": "execute_result"
    }
   ],
   "source": [
    "type('Philipp')"
   ]
  },
  {
   "cell_type": "code",
   "execution_count": 9,
   "metadata": {},
   "outputs": [
    {
     "data": {
      "text/plain": [
       "int"
      ]
     },
     "execution_count": 9,
     "metadata": {},
     "output_type": "execute_result"
    }
   ],
   "source": [
    "type(myAge)"
   ]
  },
  {
   "cell_type": "code",
   "execution_count": 10,
   "metadata": {},
   "outputs": [
    {
     "data": {
      "text/plain": [
       "float"
      ]
     },
     "execution_count": 10,
     "metadata": {},
     "output_type": "execute_result"
    }
   ],
   "source": [
    "type(restaurantBill)"
   ]
  },
  {
   "cell_type": "code",
   "execution_count": 11,
   "metadata": {},
   "outputs": [
    {
     "data": {
      "text/plain": [
       "str"
      ]
     },
     "execution_count": 11,
     "metadata": {},
     "output_type": "execute_result"
    }
   ],
   "source": [
    "myName = 'Philipp'\n",
    "type(myName)"
   ]
  },
  {
   "cell_type": "code",
   "execution_count": 12,
   "metadata": {},
   "outputs": [
    {
     "data": {
      "text/plain": [
       "list"
      ]
     },
     "execution_count": 12,
     "metadata": {},
     "output_type": "execute_result"
    }
   ],
   "source": [
    "firstPrime = 1\n",
    "secondPrime = 2\n",
    "thirdPrime = 3\n",
    "\n",
    "primeNumbers = [3, 7, 61, 29, 199]\n",
    "type(primeNumbers)"
   ]
  },
  {
   "cell_type": "code",
   "execution_count": 13,
   "metadata": {},
   "outputs": [
    {
     "data": {
      "text/plain": [
       "list"
      ]
     },
     "execution_count": 13,
     "metadata": {},
     "output_type": "execute_result"
    }
   ],
   "source": [
    "coolPeople = ['Jay Z', 'Ghandi', 'me']\n",
    "primeAndPeople = ['King Arthur', 17, 11, 'Jennifer Lopez']\n",
    "type(primeAndPeople)"
   ]
  },
  {
   "cell_type": "code",
   "execution_count": 14,
   "metadata": {},
   "outputs": [
    {
     "data": {
      "text/plain": [
       "61"
      ]
     },
     "execution_count": 14,
     "metadata": {},
     "output_type": "execute_result"
    }
   ],
   "source": [
    "primeNumbers[2]"
   ]
  },
  {
   "cell_type": "code",
   "execution_count": 15,
   "metadata": {},
   "outputs": [
    {
     "name": "stdout",
     "output_type": "stream",
     "text": [
      "199\n"
     ]
    }
   ],
   "source": [
    "bestPrimeEver = primeNumbers[4]\n",
    "print(bestPrimeEver)"
   ]
  },
  {
   "cell_type": "code",
   "execution_count": 16,
   "metadata": {
    "collapsed": true
   },
   "outputs": [],
   "source": [
    "import pandas as pd\n",
    "data = pd.read_csv('lsd_math_score_data.csv')"
   ]
  },
  {
   "cell_type": "code",
   "execution_count": 17,
   "metadata": {},
   "outputs": [
    {
     "name": "stdout",
     "output_type": "stream",
     "text": [
      "   Time_Delay_in_Minutes  LSD_ppm  Avg_Math_Test_Score\n",
      "0                      5     1.17                78.93\n",
      "1                     15     2.97                58.20\n",
      "2                     30     3.26                67.47\n",
      "3                     60     4.69                37.47\n",
      "4                    120     5.83                45.65\n",
      "5                    240     6.00                32.92\n",
      "6                    480     6.41                29.97\n"
     ]
    }
   ],
   "source": [
    "print(data)"
   ]
  },
  {
   "cell_type": "code",
   "execution_count": 18,
   "metadata": {},
   "outputs": [
    {
     "data": {
      "text/plain": [
       "pandas.core.frame.DataFrame"
      ]
     },
     "execution_count": 18,
     "metadata": {},
     "output_type": "execute_result"
    }
   ],
   "source": [
    "type(data)"
   ]
  },
  {
   "cell_type": "code",
   "execution_count": 19,
   "metadata": {},
   "outputs": [
    {
     "name": "stdout",
     "output_type": "stream",
     "text": [
      "0    78.93\n",
      "1    58.20\n",
      "2    67.47\n",
      "3    37.47\n",
      "4    45.65\n",
      "5    32.92\n",
      "6    29.97\n",
      "Name: Avg_Math_Test_Score, dtype: float64\n"
     ]
    }
   ],
   "source": [
    "onlyMathScores = data['Avg_Math_Test_Score']\n",
    "print(onlyMathScores)"
   ]
  },
  {
   "cell_type": "code",
   "execution_count": 20,
   "metadata": {
    "collapsed": true
   },
   "outputs": [],
   "source": [
    "data['Test_Subject'] = 'Jennifer Lopez'\n"
   ]
  },
  {
   "cell_type": "code",
   "execution_count": 21,
   "metadata": {},
   "outputs": [
    {
     "name": "stdout",
     "output_type": "stream",
     "text": [
      "   Time_Delay_in_Minutes  LSD_ppm  Avg_Math_Test_Score    Test_Subject\n",
      "0                      5     1.17                78.93  Jennifer Lopez\n",
      "1                     15     2.97                58.20  Jennifer Lopez\n",
      "2                     30     3.26                67.47  Jennifer Lopez\n",
      "3                     60     4.69                37.47  Jennifer Lopez\n",
      "4                    120     5.83                45.65  Jennifer Lopez\n",
      "5                    240     6.00                32.92  Jennifer Lopez\n",
      "6                    480     6.41                29.97  Jennifer Lopez\n"
     ]
    }
   ],
   "source": [
    "print(data)"
   ]
  },
  {
   "cell_type": "code",
   "execution_count": 22,
   "metadata": {
    "collapsed": true
   },
   "outputs": [],
   "source": [
    "data['High_Score'] = 100\n"
   ]
  },
  {
   "cell_type": "code",
   "execution_count": 23,
   "metadata": {},
   "outputs": [
    {
     "name": "stdout",
     "output_type": "stream",
     "text": [
      "   Time_Delay_in_Minutes  LSD_ppm  Avg_Math_Test_Score    Test_Subject  \\\n",
      "0                      5     1.17                78.93  Jennifer Lopez   \n",
      "1                     15     2.97                58.20  Jennifer Lopez   \n",
      "2                     30     3.26                67.47  Jennifer Lopez   \n",
      "3                     60     4.69                37.47  Jennifer Lopez   \n",
      "4                    120     5.83                45.65  Jennifer Lopez   \n",
      "5                    240     6.00                32.92  Jennifer Lopez   \n",
      "6                    480     6.41                29.97  Jennifer Lopez   \n",
      "\n",
      "   High_Score  \n",
      "0         100  \n",
      "1         100  \n",
      "2         100  \n",
      "3         100  \n",
      "4         100  \n",
      "5         100  \n",
      "6         100  \n"
     ]
    }
   ],
   "source": [
    "print(data)"
   ]
  },
  {
   "cell_type": "code",
   "execution_count": 24,
   "metadata": {},
   "outputs": [
    {
     "name": "stdout",
     "output_type": "stream",
     "text": [
      "   Time_Delay_in_Minutes  LSD_ppm  Avg_Math_Test_Score    Test_Subject  \\\n",
      "0                      5     1.17                78.93  Jennifer Lopez   \n",
      "1                     15     2.97                58.20  Jennifer Lopez   \n",
      "2                     30     3.26                67.47  Jennifer Lopez   \n",
      "3                     60     4.69                37.47  Jennifer Lopez   \n",
      "4                    120     5.83                45.65  Jennifer Lopez   \n",
      "5                    240     6.00                32.92  Jennifer Lopez   \n",
      "6                    480     6.41                29.97  Jennifer Lopez   \n",
      "\n",
      "   High_Score  \n",
      "0      178.93  \n",
      "1      158.20  \n",
      "2      167.47  \n",
      "3      137.47  \n",
      "4      145.65  \n",
      "5      132.92  \n",
      "6      129.97  \n"
     ]
    }
   ],
   "source": [
    "# Challenge: Overwrite values in rows for High_Score to equal average score + 100\n",
    "data['High_Score'] = data['High_Score'] + data['Avg_Math_Test_Score']\n",
    "print(data)"
   ]
  },
  {
   "cell_type": "code",
   "execution_count": 25,
   "metadata": {},
   "outputs": [
    {
     "name": "stdout",
     "output_type": "stream",
     "text": [
      "   Time_Delay_in_Minutes  LSD_ppm  Avg_Math_Test_Score    Test_Subject  \\\n",
      "0                      5     1.17                78.93  Jennifer Lopez   \n",
      "1                     15     2.97                58.20  Jennifer Lopez   \n",
      "2                     30     3.26                67.47  Jennifer Lopez   \n",
      "3                     60     4.69                37.47  Jennifer Lopez   \n",
      "4                    120     5.83                45.65  Jennifer Lopez   \n",
      "5                    240     6.00                32.92  Jennifer Lopez   \n",
      "6                    480     6.41                29.97  Jennifer Lopez   \n",
      "\n",
      "   High_Score  \n",
      "0  32015.9449  \n",
      "1  25027.2400  \n",
      "2  28046.2009  \n",
      "3  18898.0009  \n",
      "4  21213.9225  \n",
      "5  17667.7264  \n",
      "6  16892.2009  \n"
     ]
    }
   ],
   "source": [
    "# Challenge: Square the values stored inside High_Score\n",
    "data['High_Score'] = data['High_Score'] ** 2\n",
    "print(data)"
   ]
  },
  {
   "cell_type": "code",
   "execution_count": 26,
   "metadata": {},
   "outputs": [
    {
     "data": {
      "text/plain": [
       "pandas.core.series.Series"
      ]
     },
     "execution_count": 26,
     "metadata": {},
     "output_type": "execute_result"
    }
   ],
   "source": [
    "type(onlyMathScores)"
   ]
  },
  {
   "cell_type": "code",
   "execution_count": 27,
   "metadata": {},
   "outputs": [
    {
     "name": "stdout",
     "output_type": "stream",
     "text": [
      "   LSD_ppm  Avg_Math_Test_Score\n",
      "0     1.17                78.93\n",
      "1     2.97                58.20\n",
      "2     3.26                67.47\n",
      "3     4.69                37.47\n",
      "4     5.83                45.65\n",
      "5     6.00                32.92\n",
      "6     6.41                29.97\n"
     ]
    }
   ],
   "source": [
    "# Challenge: Create a list called columnList. Put 'LSD_ppm' and 'Avg_Math_Test_Score' inside.\n",
    "# columnList = ['LSD_ppm', 'Avg_Math_Test_Score']\n",
    "cleanData = data[['LSD_ppm', 'Avg_Math_Test_Score']]\n",
    "print(cleanData)"
   ]
  },
  {
   "cell_type": "code",
   "execution_count": 28,
   "metadata": {},
   "outputs": [
    {
     "data": {
      "text/plain": [
       "pandas.core.frame.DataFrame"
      ]
     },
     "execution_count": 28,
     "metadata": {},
     "output_type": "execute_result"
    }
   ],
   "source": [
    "type(cleanData)"
   ]
  },
  {
   "cell_type": "code",
   "execution_count": 29,
   "metadata": {
    "collapsed": true
   },
   "outputs": [],
   "source": [
    "y = data[['Avg_Math_Test_Score']]"
   ]
  },
  {
   "cell_type": "code",
   "execution_count": 30,
   "metadata": {},
   "outputs": [
    {
     "data": {
      "text/plain": [
       "pandas.core.frame.DataFrame"
      ]
     },
     "execution_count": 30,
     "metadata": {},
     "output_type": "execute_result"
    }
   ],
   "source": [
    "type(y)"
   ]
  },
  {
   "cell_type": "code",
   "execution_count": 31,
   "metadata": {},
   "outputs": [
    {
     "name": "stdout",
     "output_type": "stream",
     "text": [
      "   LSD_ppm\n",
      "0     1.17\n",
      "1     2.97\n",
      "2     3.26\n",
      "3     4.69\n",
      "4     5.83\n",
      "5     6.00\n",
      "6     6.41\n"
     ]
    },
    {
     "data": {
      "text/plain": [
       "pandas.core.frame.DataFrame"
      ]
     },
     "execution_count": 31,
     "metadata": {},
     "output_type": "execute_result"
    }
   ],
   "source": [
    "# Challenge: 1) Create a variable called X\n",
    "# Set X equal to the values of LSD_ppm\n",
    "# Make sure X is a dataframe\n",
    "# 2) print the value of X\n",
    "# 3) show the type of X\n",
    "X = data[['LSD_ppm']]\n",
    "print(X)\n",
    "type(X)"
   ]
  },
  {
   "cell_type": "code",
   "execution_count": 32,
   "metadata": {},
   "outputs": [
    {
     "name": "stdout",
     "output_type": "stream",
     "text": [
      "   Time_Delay_in_Minutes  LSD_ppm  Avg_Math_Test_Score  High_Score\n",
      "0                      5     1.17                78.93  32015.9449\n",
      "1                     15     2.97                58.20  25027.2400\n",
      "2                     30     3.26                67.47  28046.2009\n",
      "3                     60     4.69                37.47  18898.0009\n",
      "4                    120     5.83                45.65  21213.9225\n",
      "5                    240     6.00                32.92  17667.7264\n",
      "6                    480     6.41                29.97  16892.2009\n"
     ]
    }
   ],
   "source": [
    "del data['Test_Subject']\n",
    "print(data)"
   ]
  },
  {
   "cell_type": "code",
   "execution_count": 33,
   "metadata": {},
   "outputs": [
    {
     "name": "stdout",
     "output_type": "stream",
     "text": [
      "   Time_Delay_in_Minutes  LSD_ppm  Avg_Math_Test_Score\n",
      "0                      5     1.17                78.93\n",
      "1                     15     2.97                58.20\n",
      "2                     30     3.26                67.47\n",
      "3                     60     4.69                37.47\n",
      "4                    120     5.83                45.65\n",
      "5                    240     6.00                32.92\n",
      "6                    480     6.41                29.97\n"
     ]
    }
   ],
   "source": [
    "# Challenge: Delete High_Score column from data\n",
    "del data['High_Score']\n",
    "print(data)"
   ]
  },
  {
   "cell_type": "code",
   "execution_count": 35,
   "metadata": {
    "collapsed": true
   },
   "outputs": [],
   "source": [
    "import matplotlib.pyplot as plt\n",
    "from sklearn.linear_model import LinearRegression"
   ]
  },
  {
   "cell_type": "code",
   "execution_count": 48,
   "metadata": {
    "collapsed": true
   },
   "outputs": [],
   "source": [
    "time = data[['Time_Delay_in_Minutes']]\n",
    "LSD = data[['LSD_ppm']]\n",
    "score = data[['Avg_Math_Test_Score']]"
   ]
  },
  {
   "cell_type": "code",
   "execution_count": 49,
   "metadata": {},
   "outputs": [
    {
     "data": {
      "image/png": "[encoded data removed]",
      "text/plain": [
       "<Figure size 640x480 with 1 Axes>"
      ]
     },
     "metadata": {},
     "output_type": "display_data"
    }
   ],
   "source": [
    "%matplotlib inline\n",
    "\n",
    "plt.title('Tissue concentration of LSD over time', fontsize=17)\n",
    "plt.xlabel('Time in Minutes', fontsize=14)\n",
    "plt.ylabel('Tissue LSD ppm', fontsize=14)\n",
    "plt.text(x=0, y=-0.5, s='Wagner et al. (1968)', fontsize=12)\n",
    "plt.xticks(fontsize=14)\n",
    "plt.yticks(fontsize=14)\n",
    "\n",
    "plt.ylim(1,7)\n",
    "plt.xlim(0,500)\n",
    "\n",
    "plt.style.use('classic')\n",
    "\n",
    "plt.plot(time, LSD, color='#e74c3c', linewidth=3)\n",
    "plt.show()"
   ]
  },
  {
   "cell_type": "code",
   "execution_count": 56,
   "metadata": {},
   "outputs": [
    {
     "name": "stdout",
     "output_type": "stream",
     "text": [
      "Theta1 :  -9.009466415296782\n",
      "Intercept:  89.12387376799305\n",
      "R-Square:  0.8778349707775888\n"
     ]
    }
   ],
   "source": [
    "regr = LinearRegression()\n",
    "regr.fit(LSD, score)\n",
    "print('Theta1 : ', regr.coef_[0][0])\n",
    "print('Intercept: ', regr.intercept_[0])\n",
    "print('R-Square: ', regr.score(LSD, score))\n",
    "predicted_score = regr.predict(LSD)\n"
   ]
  },
  {
   "cell_type": "code",
   "execution_count": 57,
   "metadata": {},
   "outputs": [
    {
     "data": {
      "image/png": "[encoded data removed]",
      "text/plain": [
       "<Figure size 640x480 with 1 Axes>"
      ]
     },
     "metadata": {},
     "output_type": "display_data"
    }
   ],
   "source": [
    "%matplotlib inline\n",
    "\n",
    "# Challenge: add title 'Arithmetic vs LSD-25'\n",
    "# Add label on X Axis 'Tissue LSD ppm'\n",
    "# Add label on Y Axis 'Performance Score'\n",
    "plt.title('Arithmetic vs LSD-25', fontsize=17)\n",
    "plt.xlabel('Tissue LSD ppm', fontsize=14)\n",
    "plt.ylabel('Performance Score', fontsize=14)\n",
    "plt.ylim(25, 85)\n",
    "plt.xlim(1, 6.5)\n",
    "\n",
    "\n",
    "plt.scatter(LSD, score, color='blue', s=100, alpha=0.7)\n",
    "plt.plot(LSD, predicted_score, color='red', linewidth=3)\n",
    "plt.show()"
   ]
  },
  {
   "cell_type": "code",
   "execution_count": null,
   "metadata": {
    "collapsed": true
   },
   "outputs": [],
   "source": []
  }
 ],
 "metadata": {
  "kernelspec": {
   "display_name": "Python 3",
   "language": "python",
   "name": "python3"
  },
  "language_info": {
   "codemirror_mode": {
    "name": "ipython",
    "version": 3
   },
   "file_extension": ".py",
   "mimetype": "text/x-python",
   "name": "python",
   "nbconvert_exporter": "python",
   "pygments_lexer": "ipython3",
   "version": "3.10.9"
  }
 },
 "nbformat": 4,
 "nbformat_minor": 2
}
